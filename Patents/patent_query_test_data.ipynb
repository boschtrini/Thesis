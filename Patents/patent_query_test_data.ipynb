{
 "cells": [
  {
   "cell_type": "markdown",
   "id": "74224fbf-0937-4870-ac55-29526a61e2ee",
   "metadata": {
    "tags": []
   },
   "source": [
    "---\n",
    "# Google Patents Query #\n",
    "\n",
    "    Here I'm running the query test to extract the patents I'll be working with \n",
    "---"
   ]
  },
  {
   "cell_type": "code",
   "execution_count": 2,
   "id": "d4a0e813-5409-4769-862b-b52b55191a3f",
   "metadata": {},
   "outputs": [],
   "source": [
    "import os\n",
    "import numpy as np\n",
    "import pandas as pd\n",
    "from google.cloud import bigquery\n",
    "import db_dtypes\n",
    "import time"
   ]
  },
  {
   "cell_type": "code",
   "execution_count": 3,
   "id": "50c74244-aed1-49a9-8a5c-51445e806d9a",
   "metadata": {},
   "outputs": [],
   "source": [
    "os.environ['GOOGLE_APPLICATION_CREDENTIALS'] = 'path/to/credentials'\n",
    "os.chdir(\"/Users/trinidadbosch/Desktop/SEDS/Tesis/Code/master-thesis/tesis/\")"
   ]
  },
  {
   "cell_type": "code",
   "execution_count": 4,
   "id": "ed73f0eb-bf99-4ec2-a0cd-493b2fdfa77b",
   "metadata": {},
   "outputs": [],
   "source": [
    "# Set up client\n",
    "client = bigquery.Client()"
   ]
  },
  {
   "cell_type": "code",
   "execution_count": 6,
   "id": "90170f34-5aaa-4f1c-8628-aa91211c7da7",
   "metadata": {},
   "outputs": [],
   "source": [
    "query = \"\"\"SELECT publication_number, family_id, title_localized, abstract_localized,\n",
    "    publication_date, country_code, filing_date, grant_date\n",
    "    FROM `patents-public-data.patents.publications`\n",
    "    WHERE \n",
    "    (SEARCH((title_localized, abstract_localized), 'neural network') OR\n",
    "    SEARCH((title_localized, abstract_localized), 'deep learning')  OR\n",
    "    SEARCH((title_localized, abstract_localized), 'reinforcement learning')  OR\n",
    "    SEARCH((title_localized, abstract_localized), 'supervised learning')  OR\n",
    "    SEARCH((title_localized, abstract_localized), 'unsupervised learning')  OR\n",
    "    SEARCH((title_localized, abstract_localized), 'generative model') OR\n",
    "    SEARCH((title_localized, abstract_localized), 'natural language processing'))\n",
    "    LIMIT 100\"\"\""
   ]
  },
  {
   "cell_type": "code",
   "execution_count": 7,
   "id": "07c6de5d-6ed6-49fa-bf25-1a2636bde62e",
   "metadata": {
    "tags": []
   },
   "outputs": [],
   "source": [
    "start_time = time.time() ## calculate time \n",
    "# Run the query  and store results\n",
    "query_job = client.query(query)\n",
    "\n",
    "# Extract as data frame\n",
    "results = query_job.result()\n",
    "\n",
    "end_time = time.time()\n",
    "elapsed_time = end_time - start_time"
   ]
  },
  {
   "cell_type": "code",
   "execution_count": 15,
   "id": "1ba11afa-cb8b-46e5-a13f-9d2b638e1411",
   "metadata": {},
   "outputs": [
    {
     "data": {
      "text/plain": [
       "1.497851848602295"
      ]
     },
     "execution_count": 15,
     "metadata": {},
     "output_type": "execute_result"
    }
   ],
   "source": [
    "elapsed_time\n",
    "# # Calculate the estimated time for 300,000 rows\n",
    "# rows_300000 = 300000\n",
    "# estimated_time_300000_rows = ((elapsed_time / 1000) * rows_300000)/60\n",
    "\n",
    "# print(f\"Estimated time for 300,000 rows: {estimated_time_300000_rows} minutes\")"
   ]
  },
  {
   "cell_type": "code",
   "execution_count": 8,
   "id": "964eef87-c1d6-47ea-9ae4-a2d08472aa74",
   "metadata": {
    "tags": []
   },
   "outputs": [],
   "source": [
    "df = results.to_dataframe()\n",
    "df.to_pickle('patents_test.pkl')"
   ]
  }
 ],
 "metadata": {
  "kernelspec": {
   "display_name": "Python 3 (ipykernel)",
   "language": "python",
   "name": "python3"
  },
  "language_info": {
   "codemirror_mode": {
    "name": "ipython",
    "version": 3
   },
   "file_extension": ".py",
   "mimetype": "text/x-python",
   "name": "python",
   "nbconvert_exporter": "python",
   "pygments_lexer": "ipython3",
   "version": "3.8.8"
  }
 },
 "nbformat": 4,
 "nbformat_minor": 5
}
